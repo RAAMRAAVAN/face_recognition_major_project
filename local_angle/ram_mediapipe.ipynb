{
 "cells": [
  {
   "cell_type": "code",
   "execution_count": 16,
   "id": "a71a7b18",
   "metadata": {},
   "outputs": [],
   "source": [
    "import cv2\n",
    "import mediapipe as mp\n",
    "from matplotlib import pyplot as plt\n",
    "import numpy as np\n",
    "from scipy import sparse\n",
    "import torch\n",
    "import import_ipynb\n",
    "import import_ipynb\n",
    "from localAngle import calc_localAngle\n",
    "from coordinate import coordinateFeature"
   ]
  },
  {
   "cell_type": "code",
   "execution_count": 17,
   "id": "0abfe328",
   "metadata": {},
   "outputs": [],
   "source": [
    "# Calculating Local Angle For Node Feature\n",
    "def local_angles(BINARY_ADJACENCY_MATRIX, x_axis, y_axis, z_axis):\n",
    "    row_indices, col_indices = BINARY_ADJACENCY_MATRIX.nonzero()\n",
    "    Local_Angle_features=[]\n",
    "    for landmark in range(468):\n",
    "        List = []\n",
    "        for i in range(len(row_indices)):\n",
    "            if(row_indices[i] == landmark):\n",
    "                List.append([x_axis[col_indices[i]], y_axis[col_indices[i]], z_axis[col_indices[i]]])\n",
    "        A = [x_axis[landmark], y_axis[landmark], z_axis[landmark]]\n",
    "        # print(\"A=\",A, \"S=\",List)\n",
    "        Local_Angle_features.append(calc_localAngle(A, np.array(List)))\n",
    "    # print(\"Local_Angle_features=\",Local_Angle_features)\n",
    "    return Local_Angle_features"
   ]
  },
  {
   "cell_type": "code",
   "execution_count": 18,
   "id": "42397729",
   "metadata": {},
   "outputs": [],
   "source": [
    "def mediapipe(path): \n",
    "    image=cv2.imread(path)\n",
    "    image=cv2.resize(image,(600,600))\n",
    "    annoted_image=image.astype(np.uint8)\n",
    "\n",
    "    mp_face_mesh=mp.solutions.face_mesh\n",
    "    connection_tesselation=mp_face_mesh.FACEMESH_TESSELATION\n",
    "    # print(\"edges_mediapipe=\",len(connection_tesselation),len(connection_tesselation)/2)\n",
    "    # print(connection_tesselation)\n",
    "    with mp_face_mesh.FaceMesh(static_image_mode=False,max_num_faces=2,refine_landmarks=True,min_detection_confidence=0.5) as face_mesh:\n",
    "        results=face_mesh.process(cv2.cvtColor(image,cv2.COLOR_BGR2RGB))\n",
    "\n",
    "    x_axis=np.empty(len(results.multi_face_landmarks[0].landmark))\n",
    "    y_axis=np.empty(len(results.multi_face_landmarks[0].landmark))\n",
    "    z_axis=np.empty(len(results.multi_face_landmarks[0].landmark))\n",
    "    i=0\n",
    "\n",
    "    for nodes in results.multi_face_landmarks[0].landmark:\n",
    "        x_axis[i]=(results.multi_face_landmarks[0].landmark[i].x)\n",
    "        y_axis[i]=(results.multi_face_landmarks[0].landmark[i].y)\n",
    "        z_axis[i]=(results.multi_face_landmarks[0].landmark[i].z)\n",
    "        i=i+1\n",
    "    # print(len(results.multi_face_landmarks[0].landmark))\n",
    "    # print(\"xyz=\",x_axis)\n",
    "\n",
    "    FEATURE_MATRIX=np.zeros((468,468))\n",
    "    for i in range(468):\n",
    "        FEATURE_MATRIX[i][i]=1\n",
    "\n",
    "    WEIGHTED_ADJACENCY_MATRIX=np.zeros((468,468)) #creating a numpy array of shape 468X468 initialized with zero\n",
    "    BINARY_ADJACENCY_MATRIX=np.zeros((468,468))\n",
    "\n",
    "    for edge in connection_tesselation:\n",
    "        # Determining X & Y axis of Two Connected Points\n",
    "        x1=x_axis[edge[0]]\n",
    "        y1=y_axis[edge[0]]\n",
    "        z1=z_axis[edge[0]]\n",
    "        x2=x_axis[edge[1]]\n",
    "        y2=y_axis[edge[1]]\n",
    "        z2=z_axis[edge[1]]\n",
    "        # Calculating Eucleadin Distance for Weighted Graph\n",
    "        eucleadian_distance=(((x2-x1)**2 + (y2-y1)**2 + (z2-z1)**2) ** 0.5)\n",
    "        # Creating Weighted Graph\n",
    "        WEIGHTED_ADJACENCY_MATRIX[edge[0]][edge[1]]=eucleadian_distance\n",
    "        WEIGHTED_ADJACENCY_MATRIX[edge[1]][edge[0]]=eucleadian_distance\n",
    "\n",
    "        BINARY_ADJACENCY_MATRIX[edge[0]][edge[1]]=1\n",
    "        BINARY_ADJACENCY_MATRIX[edge[1]][edge[0]]=1\n",
    "        # Normalizing axis Values For Visualizing Meash on Face\n",
    "        shape = image.shape \n",
    "        relative_x = int(x1 * shape[1])\n",
    "        relative_y = int(y1 * shape[0])\n",
    "        relative_z = int(x2 * shape[1])\n",
    "        relative_c = int(y2 * shape[0])\n",
    "        # Drawing Nodes and Edges on Image For Visualization\n",
    "        cv2.circle(image, (relative_x, relative_y), radius=1, color=(0, 0, 255), thickness=3) \n",
    "        cv2.line(image,(relative_x,relative_y),(relative_z,relative_c),(0,255,0),1)\n",
    "\n",
    "    # plt.imshow(image)\n",
    "    WEIGHTED_ADJACENCY_MATRIX=sparse.csr_matrix(WEIGHTED_ADJACENCY_MATRIX)\n",
    "    BINARY_ADJACENCY_MATRIX=sparse.csr_matrix(BINARY_ADJACENCY_MATRIX)\n",
    "    # print(BINARY_ADJACENCY_MATRIX)\n",
    "    LocalAngles = local_angles(BINARY_ADJACENCY_MATRIX, x_axis, y_axis, z_axis)\n",
    "    XCoordinateFeature, YCoordinateFeature, ZCoordinateFeature = coordinateFeature(x_axis, y_axis, z_axis)\n",
    "    FEATURE_MATRIX=torch.from_numpy(FEATURE_MATRIX)\n",
    "    DOTPRODUCT=WEIGHTED_ADJACENCY_MATRIX.dot(BINARY_ADJACENCY_MATRIX)\n",
    "    newFeatureMatrix = np.column_stack((LocalAngles, XCoordinateFeature[:-10], YCoordinateFeature[:-10], ZCoordinateFeature[:-10]))\n",
    "    print(newFeatureMatrix)\n",
    "    return(WEIGHTED_ADJACENCY_MATRIX,FEATURE_MATRIX)\n"
   ]
  },
  {
   "attachments": {},
   "cell_type": "markdown",
   "id": "624e45dc",
   "metadata": {},
   "source": [
    "Checking mediapipe is running currectly or not"
   ]
  },
  {
   "cell_type": "code",
   "execution_count": 19,
   "id": "81b2d45c",
   "metadata": {},
   "outputs": [
    {
     "name": "stdout",
     "output_type": "stream",
     "text": [
      "[[ 1.59721845e+02  5.13977073e-02  7.58311019e-01 -9.33652337e-01]\n",
      " [ 1.51270161e+02  4.06859275e-02  2.26177000e-01 -1.87108330e+00]\n",
      " [ 5.30306997e+02  3.98476310e-02  3.91397231e-01 -9.71952061e-01]\n",
      " ...\n",
      " [ 3.47856752e+02  2.74881147e-01 -7.53670477e-01 -2.63610616e-01]\n",
      " [ 2.41134136e+02  1.27321518e+00 -9.33235077e-01  4.37045951e-01]\n",
      " [ 3.62825744e+02  1.38856646e+00 -1.01667942e+00  4.52156574e-01]]\n"
     ]
    }
   ],
   "source": [
    "path=\"ram.jpg\"\n",
    "adj1,features1=mediapipe(path)\n",
    "# adj2,features2=mediapipe(path)"
   ]
  },
  {
   "cell_type": "code",
   "execution_count": 20,
   "id": "5776e122",
   "metadata": {},
   "outputs": [],
   "source": [
    "# adj1=adj1.toarray()\n",
    "# adj2=adj2.toarray()"
   ]
  },
  {
   "cell_type": "code",
   "execution_count": 21,
   "id": "dfe064a0",
   "metadata": {},
   "outputs": [],
   "source": [
    "# from scipy import spatial\n",
    "# # z1=z1.detach().numpy()\n",
    "# # z2=z2.detach().numpy()\n",
    "# from scipy.stats.stats import pearsonr  \n",
    "# # cosine_dist=[]\n",
    "# val1=1 - spatial.distance.cosine(np.array(adj1).flatten() ,np.array(adj2).flatten())\n",
    "# print(\"cosine_dist,\",(1 - spatial.distance.cosine(np.array(adj1).flatten() ,np.array(adj2).flatten())))\n",
    "# print(\"pearson_dist\",(pearsonr(np.array(adj1).flatten() ,np.array(adj2).flatten())[0]))\n",
    "# print(\"c_dist\",(pearsonr(np.array(adj1).flatten() ,np.array(adj2).flatten())[0]))"
   ]
  }
 ],
 "metadata": {
  "kernelspec": {
   "display_name": "Python 3",
   "language": "python",
   "name": "python3"
  },
  "language_info": {
   "codemirror_mode": {
    "name": "ipython",
    "version": 3
   },
   "file_extension": ".py",
   "mimetype": "text/x-python",
   "name": "python",
   "nbconvert_exporter": "python",
   "pygments_lexer": "ipython3",
   "version": "3.8.10"
  },
  "vscode": {
   "interpreter": {
    "hash": "f86ed6d2ccfca78b79da216d0cb38b107327236eab96f22d38fd0505e1d75fcf"
   }
  }
 },
 "nbformat": 4,
 "nbformat_minor": 5
}
