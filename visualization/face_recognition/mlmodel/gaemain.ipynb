{
 "cells": [
  {
   "cell_type": "code",
   "execution_count": 98,
   "metadata": {},
   "outputs": [],
   "source": [
    "from __future__ import division\n",
    "from __future__ import print_function\n",
    "\n",
    "import argparse\n",
    "import time\n",
    "\n",
    "import numpy as np\n",
    "import scipy.sparse as sp\n",
    "import torch\n",
    "import torchvision\n",
    "from torch import optim\n",
    "import pandas as pd\n",
    "import os\n",
    "\n",
    "from gae.model import GCNModelVAE\n",
    "\n",
    "from gae.optimizer import loss_function\n",
    "from gae.utils import load_data, mask_test_edges, preprocess_graph, get_roc_score\n",
    "\n",
    "import import_ipynb\n",
    "from ram_mediapipe import mediapipe\n"
   ]
  },
  {
   "cell_type": "code",
   "execution_count": 99,
   "metadata": {},
   "outputs": [],
   "source": [
    "# from torch.nn.parameter import Parameter\n",
    "# value=Parameter(torch.eye(468))\n",
    "# print(value)"
   ]
  },
  {
   "cell_type": "markdown",
   "metadata": {},
   "source": [
    "<!-- GAE : Ram -->"
   ]
  },
  {
   "cell_type": "code",
   "execution_count": 100,
   "metadata": {},
   "outputs": [],
   "source": [
    "parser = argparse.ArgumentParser()\n",
    "parser.add_argument('--model', type=str, default='gcn_vae', help=\"models used\")\n",
    "parser.add_argument('--seed', type=int, default=0, help='Random seed.')\n",
    "parser.add_argument('--epochs', type=int, default=100, help='Number of epochs to train.')\n",
    "parser.add_argument('--hidden1', type=int, default=256, help='Number of units in hidden layer 1.')\n",
    "parser.add_argument('--hidden2', type=int, default=128, help='Number of units in hidden layer 2.')\n",
    "parser.add_argument('--lr', type=float, default=0.01, help='Initial learning rate.')\n",
    "parser.add_argument('--dropout', type=float, default=0., help='Dropout rate (1 - keep probability).')\n",
    "parser.add_argument('--dataset-str', default='cora', help='type of dataset.')\n",
    "\n",
    "args, unknown = parser.parse_known_args()\n",
    "# print(\"epoch=\",args.hidden1)\n",
    "# torch.manual_seed(1)"
   ]
  },
  {
   "cell_type": "code",
   "execution_count": 101,
   "metadata": {},
   "outputs": [],
   "source": [
    "def gae_for(path):\n",
    "    # Calling mediapipe for adjacency matrix and feature matrix\n",
    "    # adj: Type=scipy.sparse._csr.csr_matrix, Shape=(468,468)\n",
    "    # Features: Type=torch.Tensor, Shape=(468,468)\n",
    "    adj,features=mediapipe(path)\n",
    "    # n_nodes= 468, feat_dim=468\n",
    "    n_nodes, feat_dim = features.shape \n",
    "    adj_orig = adj\n",
    "    # adj_orig.diagonal() = all diagonal elements. Eg: [0,0,0,.....0], Shape = (1,468), 1 Dimensional\n",
    "    # adj_orig.diagonal()[np.newaxis, :] = [[0,0,0,....,0]], Shape = (1,468), 2 Dimensional\n",
    "    # sp.dia_matrix = sparse matrix with diagonal storage\n",
    "    # sp.dia_matrix((data,offsets),shape) : data = [[0,0,0,...,0]], offsets = [0], and shape = (468,468)\n",
    "    # subtractiong adj matrix with 468*468 matrix of zeros. ( Remove diagonal elements )\n",
    "    adj_orig = adj_orig - sp.dia_matrix((adj_orig.diagonal()[np.newaxis, :], [0]), shape=adj_orig.shape) \n",
    "    # eliminating zeros\n",
    "    adj_orig.eliminate_zeros()\n",
    "    # calling mask_test_edges() function, present in utils\n",
    "    adj_train, train_edges, val_edges, val_edges_false, test_edges, test_edges_false = mask_test_edges(adj) \n",
    "    # 198 edges and lower triangular values are removed from original matrix. \n",
    "    # adj = adj_train\n",
    "    adj_train=adj\n",
    "    # print(\"val_edges_false=\",len(test_edges_false))\n",
    "    # print(train_edges.shape,test_edges,test_edges_false)\n",
    "    # normalize adj matrix : Tilda A = (adj + feature) * pow(D,.5) * pow(D,.5)\n",
    "    adj_norm = preprocess_graph(adj)\n",
    "    # adj + features\n",
    "    adj_label = adj_train + sp.eye(adj_train.shape[0])\n",
    "    # cerating array of tensor type\n",
    "    adj_label = torch.FloatTensor(adj_label.toarray())\n",
    "    # 468 * 468 - 2248 / 2248\n",
    "    # pos_weight= tensor([96.4306])\n",
    "    pos_weight = torch.Tensor([float(adj.shape[0] * adj.shape[0] - adj.sum()) / adj.sum()])\n",
    "    # 468 * 468 / ((468 * 468) - 2248) * 2\n",
    "    # norm= 0.5051850758386537\n",
    "    norm = adj.shape[0] * adj.shape[0] / float((adj.shape[0] * adj.shape[0] - adj.sum()) * 2)\n",
    "    # calling GCNModelVAE, passing shape, hidden1 hidden2, dropout\n",
    "    model = GCNModelVAE(feat_dim, args.hidden1, args.hidden2, args.dropout)\n",
    "    # print(\"model=\",model)\n",
    "    # predefined in torch\n",
    "    # Implements Adam algorithm\n",
    "    optimizer = optim.Adam(model.parameters(), lr=args.lr)\n",
    "\n",
    "    hidden_emb = None\n",
    "    for epoch in range(args.epochs):\n",
    "        # This method returns the time as a floating point number expressed in seconds\n",
    "        t = time.time()\n",
    "        # predefined in torch\n",
    "        model.train()\n",
    "        # predefined in torch\n",
    "        # Sets the gradients of all optimized torch.Tensor s to zero.\n",
    "        optimizer.zero_grad()\n",
    "        recovered, mu, logvar, z = model(features, adj_norm)\n",
    "        # print(\"shape=\",recovered.shape)\n",
    "        loss = loss_function(preds=recovered, labels=adj_label,\n",
    "                             mu=mu, logvar=logvar, n_nodes=n_nodes,\n",
    "                             norm=norm, pos_weight=pos_weight)\n",
    "        loss.backward()\n",
    "        cur_loss = loss.item()\n",
    "        optimizer.step()\n",
    "\n",
    "        hidden_emb = mu.data.numpy()\n",
    "        roc_curr, ap_curr, emb = get_roc_score(hidden_emb, adj_orig, val_edges, val_edges_false)\n",
    "        # print(\"roc=\",roc_curr)\n",
    "    # print(\"Optimization Finished!\")\n",
    "    \n",
    "    roc_score, ap_score, emb = get_roc_score(hidden_emb, adj_orig, test_edges, test_edges_false)\n",
    "    # print(\"Epoch:\", '%04d' % (epoch + 1), \"train_loss=\", \"{:.5f}\".format(cur_loss),\n",
    "    #     \"val_ap=\", \"{:.5f}\".format(ap_curr),\n",
    "    #     \"time=\", \"{:.5f}\".format(time.time() - t)\n",
    "    #     )\n",
    "    # print(\"roc=\",roc_score)\n",
    "    # print(\"epoch=\",args.epochs)\n",
    "    # print(\"emb\",hidden_emb.shape)\n",
    "    # print(recovered.shape,mu.shape,logvar.shape)\n",
    "    return(z)\n"
   ]
  },
  {
   "cell_type": "code",
   "execution_count": 102,
   "metadata": {},
   "outputs": [],
   "source": [
    "# from torch.nn.parameter import Parameter\n",
    "# weight = Parameter(torch.FloatTensor(468, args.hidden1))\n",
    "# weight=weight.detach().numpy()\n",
    "# weight = pd.DataFrame(weight)\n",
    "# print(type(weight))\n",
    "\n",
    "# csv_path=\"initialWeight.csv\"\n",
    "# weight.to_csv(csv_path,index=False) #save to file"
   ]
  },
  {
   "attachments": {},
   "cell_type": "markdown",
   "metadata": {},
   "source": [
    "latent 1"
   ]
  },
  {
   "cell_type": "code",
   "execution_count": 103,
   "metadata": {},
   "outputs": [],
   "source": [
    "# z1=gae_for(\"./datasets/orl_dataset/person9/train_images/89_9.jpg\")\n",
    "# z1=z1.detach().numpy()"
   ]
  },
  {
   "attachments": {},
   "cell_type": "markdown",
   "metadata": {},
   "source": [
    "latent2"
   ]
  },
  {
   "cell_type": "code",
   "execution_count": 104,
   "metadata": {},
   "outputs": [],
   "source": [
    "# z2=gae_for(\"./datasets/orl_dataset/person10/test_image/94_10.jpg\")\n",
    "# z2=z2.detach().numpy()"
   ]
  },
  {
   "attachments": {},
   "cell_type": "markdown",
   "metadata": {},
   "source": [
    "compare 1v1"
   ]
  },
  {
   "cell_type": "code",
   "execution_count": 105,
   "metadata": {},
   "outputs": [
    {
     "name": "stdout",
     "output_type": "stream",
     "text": [
      "cosine_dist, 0.872484028339386\n",
      "pearson_dist 0.8724850965982701\n",
      "c_dist 0.8724850965982701\n"
     ]
    },
    {
     "name": "stderr",
     "output_type": "stream",
     "text": [
      "C:\\Users\\ramba\\AppData\\Local\\Temp\\ipykernel_10080\\2330852208.py:2: DeprecationWarning: Please use `pearsonr` from the `scipy.stats` namespace, the `scipy.stats.stats` namespace is deprecated.\n",
      "  from scipy.stats.stats import pearsonr\n"
     ]
    }
   ],
   "source": [
    "# from scipy import spatial\n",
    "# from scipy.stats.stats import pearsonr  \n",
    "# val1=1 - spatial.distance.cosine(np.array(z1).flatten() ,np.array(z2).flatten())\n",
    "# print(\"cosine_dist,\",(1 - spatial.distance.cosine(np.array(z1).flatten() ,np.array(z2).flatten())))\n",
    "# print(\"pearson_dist\",(pearsonr(np.array(z1).flatten() ,np.array(z2).flatten())[0]))\n",
    "# print(\"c_dist\",(pearsonr(np.array(z1).flatten() ,np.array(z2).flatten())[0]))"
   ]
  },
  {
   "cell_type": "code",
   "execution_count": 106,
   "metadata": {},
   "outputs": [],
   "source": [
    "# from scipy import spatial\n",
    "# from scipy.stats.stats import pearsonr  \n",
    "# # cosine_dist=[]\n",
    "# print(\"cosine_dist,\",(1 - spatial.distance.cosine(np.array(z1).flatten() ,np.array(z1).flatten())))\n",
    "# print(\"pearson_dist\",(pearsonr(np.array(z1).flatten() ,np.array(z1).flatten())[0]))\n",
    "# print(\"c_dist\",(pearsonr(np.array(z1).flatten() ,np.array(z1).flatten())[0]))"
   ]
  },
  {
   "cell_type": "code",
   "execution_count": 107,
   "metadata": {},
   "outputs": [],
   "source": [
    "# z3=gae_for(\"./orl_dataset/person5/train_images/48_5.jpg\")\n",
    "# z3=z3.detach().numpy()"
   ]
  },
  {
   "cell_type": "code",
   "execution_count": 108,
   "metadata": {},
   "outputs": [],
   "source": [
    "# from scipy import spatial\n",
    "# # z1=z1.detach().numpy()\n",
    "# # z2=z2.detach().numpy()\n",
    "# from scipy.stats.stats import pearsonr  \n",
    "# # cosine_dist=[]\n",
    "# print(\"cosine_dist,\",(1 - spatial.distance.cosine(np.array(z1).flatten() ,np.array(z3).flatten())))\n",
    "# print(\"pearson_dist\",(pearsonr(np.array(z1).flatten() ,np.array(z3).flatten())[0]))\n",
    "# print(\"c_dist\",(pearsonr(np.array(z1).flatten() ,np.array(z3).flatten())[0]))"
   ]
  },
  {
   "cell_type": "code",
   "execution_count": 109,
   "metadata": {},
   "outputs": [],
   "source": [
    "# from scipy import spatial\n",
    "# # z1=z1.detach().numpy()\n",
    "# # z2=z2.detach().numpy()\n",
    "# from scipy.stats.stats import pearsonr  \n",
    "# # cosine_dist=[]\n",
    "# val2=1 - spatial.distance.cosine(np.array(z1).flatten() ,np.array(z3).flatten())\n",
    "# print(\"cosine_dist,\",(1 - spatial.distance.cosine(np.array(z3).flatten() ,np.array(z1).flatten())))\n",
    "# print(\"pearson_dist\",(pearsonr(np.array(z3).flatten() ,np.array(z1).flatten())[0]))\n",
    "# print(\"c_dist\",(pearsonr(np.array(z3).flatten() ,np.array(z1).flatten())[0]))"
   ]
  },
  {
   "cell_type": "code",
   "execution_count": 110,
   "metadata": {},
   "outputs": [],
   "source": [
    "# if val1 > val2:\n",
    "#     print(\"true\")\n",
    "# else:\n",
    "#     print(\"false\")"
   ]
  }
 ],
 "metadata": {
  "kernelspec": {
   "display_name": "Python 3",
   "language": "python",
   "name": "python3"
  },
  "language_info": {
   "codemirror_mode": {
    "name": "ipython",
    "version": 3
   },
   "file_extension": ".py",
   "mimetype": "text/x-python",
   "name": "python",
   "nbconvert_exporter": "python",
   "pygments_lexer": "ipython3",
   "version": "3.8.10"
  },
  "orig_nbformat": 4,
  "vscode": {
   "interpreter": {
    "hash": "f86ed6d2ccfca78b79da216d0cb38b107327236eab96f22d38fd0505e1d75fcf"
   }
  }
 },
 "nbformat": 4,
 "nbformat_minor": 2
}
