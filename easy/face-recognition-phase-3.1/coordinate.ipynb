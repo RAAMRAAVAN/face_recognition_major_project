{
 "cells": [
  {
   "cell_type": "code",
   "execution_count": 111,
   "metadata": {},
   "outputs": [],
   "source": [
    "import numpy as np\n",
    "import math"
   ]
  },
  {
   "cell_type": "code",
   "execution_count": 112,
   "metadata": {},
   "outputs": [],
   "source": [
    "def mean(arr):\n",
    "    return(np.sum(arr)/len(arr))"
   ]
  },
  {
   "cell_type": "code",
   "execution_count": 113,
   "metadata": {},
   "outputs": [],
   "source": [
    "def SD(arr, mean):\n",
    "    summation=0\n",
    "    for value in arr:\n",
    "        summation=summation+((value-mean)**2)\n",
    "    return(math.sqrt(summation / len(arr)))"
   ]
  },
  {
   "cell_type": "code",
   "execution_count": null,
   "metadata": {},
   "outputs": [],
   "source": [
    "def normFunction(list):\n",
    "    min_value=min(list)\n",
    "    max_value=max(list)\n",
    "    normalized_features = []\n",
    "    for feature in list:\n",
    "        normalized_features.append(2 * (feature - min_value) / (max_value - min_value) - 1)\n",
    "    return(normalized_features)"
   ]
  },
  {
   "cell_type": "code",
   "execution_count": 114,
   "metadata": {},
   "outputs": [],
   "source": [
    "# sample\n",
    "x = np.array([20, 25, 30])\n",
    "y = np.array([30,35,40])\n",
    "z = np.array([30,35,40])"
   ]
  },
  {
   "cell_type": "code",
   "execution_count": 119,
   "metadata": {},
   "outputs": [
    {
     "name": "stdout",
     "output_type": "stream",
     "text": [
      "[-1.22474487  0.          1.22474487] [-1.22474487  0.          1.22474487] [-1.22474487  0.          1.22474487]\n"
     ]
    }
   ],
   "source": [
    "def coordinateFeature(x,y,z):\n",
    "    mean_x = mean(x)\n",
    "    mean_y = mean(y)\n",
    "    mean_z = mean(z)\n",
    "\n",
    "    SDx=SD(x,mean_x)\n",
    "    SDy=SD(y, mean_y)\n",
    "    SDz=SD(z, mean_z)\n",
    "\n",
    "    new_x=(x-mean_x)/SDx\n",
    "    new_y=(y-mean_y)/SDy\n",
    "    new_z=(z-mean_z)/SDz\n",
    "\n",
    "    norm_x=normFunction(new_x)\n",
    "    norm_y=normFunction(new_y)\n",
    "    norm_z=normFunction(new_z)\n",
    "    return(norm_x,norm_y,norm_z)\n",
    "\n",
    "x,y,z=coordinateFeature(x,y,z)\n",
    "# print(x,y,z)"
   ]
  }
 ],
 "metadata": {
  "kernelspec": {
   "display_name": "Python 3",
   "language": "python",
   "name": "python3"
  },
  "language_info": {
   "codemirror_mode": {
    "name": "ipython",
    "version": 3
   },
   "file_extension": ".py",
   "mimetype": "text/x-python",
   "name": "python",
   "nbconvert_exporter": "python",
   "pygments_lexer": "ipython3",
   "version": "3.8.10"
  },
  "orig_nbformat": 4
 },
 "nbformat": 4,
 "nbformat_minor": 2
}
