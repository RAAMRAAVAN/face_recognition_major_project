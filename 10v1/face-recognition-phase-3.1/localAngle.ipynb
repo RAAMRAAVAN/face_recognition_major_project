{
 "cells": [
  {
   "cell_type": "code",
   "execution_count": 5,
   "metadata": {},
   "outputs": [],
   "source": [
    "import math\n",
    "import numpy as np\n",
    "\n",
    "Sn=np.array([[0.42,0.78,-0.04],[0.40,0.77,-0.04],[0.41, 0.72, -0.04], [0.43, 0.76, -0.04]])\n",
    "# a, c\n",
    "An=[0.42,0.77,-0.05] #B\n"
   ]
  },
  {
   "cell_type": "code",
   "execution_count": 6,
   "metadata": {},
   "outputs": [],
   "source": [
    "def Angle(A,B):\n",
    "    modA= math.sqrt(A[0]**2+A[1]**2+A[2]**2)\n",
    "    modB= math.sqrt(B[0]**2+B[1]**2+B[2]**2)\n",
    "    AB= modA * modB\n",
    "    dotProduct=A[0]*B[0] + A[1]*B[1] + A[2]*B[2]\n",
    "    x = dotProduct / AB\n",
    "    angle = math.acos(x)\n",
    "    return(angle)"
   ]
  },
  {
   "cell_type": "code",
   "execution_count": 7,
   "metadata": {},
   "outputs": [],
   "source": [
    "def calc_localAngle(A, S):\n",
    "    # print(A, S)\n",
    "    localAngle = 0\n",
    "    # print(S.shape[0])\n",
    "    for i in range(S.shape[0]):\n",
    "        S[i] = [S[i][0] - A[0],S[i][1] - A[1],S[i][2] - A[2]]\n",
    "    for i in range(S.shape[0]-1):\n",
    "        angle=Angle(S[i], S[i+1])\n",
    "        localAngle = localAngle + angle\n",
    "        # print(\"localAngle\", angle)\n",
    "    localAngle = localAngle + Angle(S[S.shape[0]-1], S[0])\n",
    "    return(localAngle/S.shape[0])"
   ]
  },
  {
   "cell_type": "code",
   "execution_count": 8,
   "metadata": {},
   "outputs": [
    {
     "name": "stdout",
     "output_type": "stream",
     "text": [
      "local angle=  1.2778115929159115\n"
     ]
    }
   ],
   "source": [
    "# print(\"local angle= \",calc_localAngle(An, Sn))"
   ]
  }
 ],
 "metadata": {
  "kernelspec": {
   "display_name": "Python 3",
   "language": "python",
   "name": "python3"
  },
  "language_info": {
   "codemirror_mode": {
    "name": "ipython",
    "version": 3
   },
   "file_extension": ".py",
   "mimetype": "text/x-python",
   "name": "python",
   "nbconvert_exporter": "python",
   "pygments_lexer": "ipython3",
   "version": "3.8.10"
  },
  "orig_nbformat": 4
 },
 "nbformat": 4,
 "nbformat_minor": 2
}
