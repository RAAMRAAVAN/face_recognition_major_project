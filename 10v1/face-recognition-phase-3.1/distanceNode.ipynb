{
 "cells": [
  {
   "cell_type": "code",
   "execution_count": null,
   "metadata": {},
   "outputs": [],
   "source": []
  },
  {
   "cell_type": "code",
   "execution_count": 1,
   "metadata": {},
   "outputs": [],
   "source": [
    "def distance_node_feature(A, S):\n",
    "    eucleadian_distance = 0\n",
    "    # print(S.shape[0])\n",
    "    for neigh in S:\n",
    "        eucleadian_distance=eucleadian_distance + (((neigh[0]-A[0])**2 + (neigh[1]-A[1])**2 + (neigh[2]-A[2])**2) ** 0.5)\n",
    "    eucleadian_distance = eucleadian_distance/S.shape[0]\n",
    "    return(eucleadian_distance)"
   ]
  }
 ],
 "metadata": {
  "kernelspec": {
   "display_name": "Python 3",
   "language": "python",
   "name": "python3"
  },
  "language_info": {
   "codemirror_mode": {
    "name": "ipython",
    "version": 3
   },
   "file_extension": ".py",
   "mimetype": "text/x-python",
   "name": "python",
   "nbconvert_exporter": "python",
   "pygments_lexer": "ipython3",
   "version": "3.8.10"
  },
  "orig_nbformat": 4
 },
 "nbformat": 4,
 "nbformat_minor": 2
}
