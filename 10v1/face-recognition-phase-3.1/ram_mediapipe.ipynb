{
 "cells": [
  {
   "cell_type": "code",
   "execution_count": 210,
   "id": "a71a7b18",
   "metadata": {},
   "outputs": [],
   "source": [
    "import cv2\n",
    "import mediapipe as mp\n",
    "from matplotlib import pyplot as plt\n",
    "import numpy as np\n",
    "from scipy import sparse\n",
    "import math\n",
    "import torch\n",
    "import import_ipynb\n",
    "import import_ipynb\n",
    "from localAngle import calc_localAngle\n",
    "from coordinate import coordinateFeature\n",
    "from coordinate import normFunction\n",
    "from distanceNode import distance_node_feature\n",
    "from local_curvature import compute_curvature\n",
    "from edge_orientation_feature import get_edge_orientation"
   ]
  },
  {
   "cell_type": "code",
   "execution_count": 211,
   "id": "295efb84",
   "metadata": {},
   "outputs": [],
   "source": [
    "def JoinFeature1(NodeFeatureMatrix, EdgeFeatures, connection_tesselation):\n",
    "    JoinFeatureMartix = []\n",
    "    i=0\n",
    "    for edge in connection_tesselation:\n",
    "        JoinFeatureMartix.append(np.concatenate([NodeFeatureMatrix[edge[0]] , NodeFeatureMatrix[edge[1]] ,EdgeFeatures[i]]))\n",
    "        i=i+1\n",
    "    JoinFeatureMartix = np.array(JoinFeatureMartix)\n",
    "    # print(JoinFeatureMartix.shape)\n",
    "    return(JoinFeatureMartix)"
   ]
  },
  {
   "cell_type": "code",
   "execution_count": 212,
   "id": "3d70fa76",
   "metadata": {},
   "outputs": [],
   "source": [
    "def JoinFeature2(NodeFeatureMatrix, EdgeFeatures, BINARY_ADJACENCY_MATRIX):\n",
    "    row_indices, col_indices = BINARY_ADJACENCY_MATRIX.nonzero()\n",
    "    Joint_Features=[]\n",
    "    for landmark in range(468):\n",
    "        List = NodeFeatureMatrix[landmark]\n",
    "        average = []\n",
    "        count=0\n",
    "        for i in range(len(row_indices)):\n",
    "            if(row_indices[i] == landmark):\n",
    "                average.append(EdgeFeatures[col_indices[i]])\n",
    "                count=count+1\n",
    "        transposed = [[row[i] for row in average] for i in range(len(average[0]))]\n",
    "        averages = []\n",
    "        for row in transposed:\n",
    "            row_average = sum(row) / len(row)\n",
    "            averages.append(row_average)\n",
    "        Joint_Features.append(np.concatenate([List, averages]))\n",
    "    Joint_Featurs=np.array(Joint_Features)\n",
    "    return(Joint_Featurs)"
   ]
  },
  {
   "cell_type": "code",
   "execution_count": 213,
   "id": "58043711",
   "metadata": {},
   "outputs": [],
   "source": [
    "def normalization_function(matrix):\n",
    "    # Calculate the Euclidean norm of each row\n",
    "    norms = np.linalg.norm(matrix, axis=1, keepdims=True)\n",
    "    # Normalize the matrix by dividing by the norms\n",
    "    return(matrix / norms)"
   ]
  },
  {
   "cell_type": "code",
   "execution_count": 214,
   "id": "74e6fda5",
   "metadata": {},
   "outputs": [],
   "source": [
    "def Angle(BA,BC):\n",
    "    modBA= math.sqrt(BA[0]**2+BA[1]**2+BA[2]**2)\n",
    "    modBC= math.sqrt(BC[0]**2+BC[1]**2+BC[2]**2)\n",
    "    BABC= modBA * modBC\n",
    "    dotProduct=BA[0]*BC[0] + BA[1]*BC[1] + BA[2]*BC[2]\n",
    "    x = dotProduct / BABC\n",
    "    angle = math.acos(x)\n",
    "    return(math.degrees(angle))"
   ]
  },
  {
   "cell_type": "code",
   "execution_count": 215,
   "id": "0abfe328",
   "metadata": {},
   "outputs": [],
   "source": [
    "# Calculating Local Angle For Node Feature\n",
    "def fetch_local_angles(BINARY_ADJACENCY_MATRIX, x_axis, y_axis, z_axis):\n",
    "    row_indices, col_indices = BINARY_ADJACENCY_MATRIX.nonzero()\n",
    "    Local_Angle_features=[]\n",
    "    for landmark in range(468):\n",
    "        List = []\n",
    "        for i in range(len(row_indices)):\n",
    "            if(row_indices[i] == landmark):\n",
    "                List.append([x_axis[col_indices[i]], y_axis[col_indices[i]], z_axis[col_indices[i]]])\n",
    "        A = [x_axis[landmark], y_axis[landmark], z_axis[landmark]]\n",
    "        # print(\"A=\",A, \"S=\",List)\n",
    "        Local_Angle_features.append(calc_localAngle(A, np.array(List)))\n",
    "    # print(\"Local_Angle_features=\",Local_Angle_features)\n",
    "    return normFunction(Local_Angle_features)"
   ]
  },
  {
   "cell_type": "code",
   "execution_count": 216,
   "id": "cf60ada0",
   "metadata": {},
   "outputs": [],
   "source": [
    "# Calculating distance For Node Feature\n",
    "def fetch_distance_node_feature(BINARY_ADJACENCY_MATRIX, x_axis, y_axis, z_axis):\n",
    "    row_indices, col_indices = BINARY_ADJACENCY_MATRIX.nonzero()\n",
    "    # print( row_indices, col_indices)\n",
    "    Distance_node_features=[]\n",
    "    for landmark in range(468):\n",
    "        List = []\n",
    "        for i in range(len(row_indices)):\n",
    "            if(row_indices[i] == landmark):\n",
    "                List.append([x_axis[col_indices[i]], y_axis[col_indices[i]], z_axis[col_indices[i]]])\n",
    "        A = [x_axis[landmark], y_axis[landmark], z_axis[landmark]]\n",
    "        Distance_node_features.append(distance_node_feature(A, np.array(List)))\n",
    "    # print(\"Local_Angle_features=\",Local_Angle_features)\n",
    "    return normFunction(Distance_node_features)"
   ]
  },
  {
   "cell_type": "code",
   "execution_count": 217,
   "id": "42397729",
   "metadata": {},
   "outputs": [],
   "source": [
    "def mediapipe(path): \n",
    "    image=cv2.imread(path)\n",
    "    image=cv2.resize(image,(600,600))\n",
    "    annoted_image=image.astype(np.uint8)\n",
    "\n",
    "    mp_face_mesh=mp.solutions.face_mesh\n",
    "    connection_tesselation=mp_face_mesh.FACEMESH_TESSELATION\n",
    "    # print(\"edges_mediapipe=\",len(connection_tesselation),len(connection_tesselation)/2)\n",
    "    # print(connection_tesselation)\n",
    "    with mp_face_mesh.FaceMesh(static_image_mode=False,max_num_faces=2,refine_landmarks=True,min_detection_confidence=0.5) as face_mesh:\n",
    "        results=face_mesh.process(cv2.cvtColor(image,cv2.COLOR_BGR2RGB))\n",
    "\n",
    "    x_axis=np.empty(len(results.multi_face_landmarks[0].landmark))\n",
    "    y_axis=np.empty(len(results.multi_face_landmarks[0].landmark))\n",
    "    z_axis=np.empty(len(results.multi_face_landmarks[0].landmark))\n",
    "    i=0\n",
    "\n",
    "    for nodes in results.multi_face_landmarks[0].landmark:\n",
    "        x_axis[i]=(results.multi_face_landmarks[0].landmark[i].x)\n",
    "        y_axis[i]=(results.multi_face_landmarks[0].landmark[i].y)\n",
    "        z_axis[i]=(results.multi_face_landmarks[0].landmark[i].z)\n",
    "        i=i+1\n",
    "    # print(len(results.multi_face_landmarks[0].landmark))\n",
    "    # print(\"xyz=\",x_axis)\n",
    "\n",
    "    FEATURE_MATRIX=np.zeros((468,468))\n",
    "    for i in range(468):\n",
    "        FEATURE_MATRIX[i][i]=1\n",
    "\n",
    "    WEIGHTED_ADJACENCY_MATRIX=np.zeros((468,468)) #creating a numpy array of shape 468X468 initialized with zero\n",
    "    distance_feature=[]\n",
    "    BINARY_ADJACENCY_MATRIX=np.zeros((468,468))\n",
    "    ANGLE_BETWEEN_EDGE_FEATURE=[]\n",
    "    LOCAL_CURVATURE_FEATURE=[]\n",
    "    EDGE_ORIENTATION_FEATURE=[]\n",
    "\n",
    "    for edge in connection_tesselation:\n",
    "        # Determining X & Y axis of Two Connected Points\n",
    "        x1=x_axis[edge[0]]\n",
    "        y1=y_axis[edge[0]]\n",
    "        z1=z_axis[edge[0]]\n",
    "        x2=x_axis[edge[1]]\n",
    "        y2=y_axis[edge[1]]\n",
    "        z2=z_axis[edge[1]]\n",
    "        # Calculating Eucleadin Distance for Weighted Graph\n",
    "        eucleadian_distance=(((x2-x1)**2 + (y2-y1)**2 + (z2-z1)**2) ** 0.5)\n",
    "        # Creating Weighted Graph\n",
    "        WEIGHTED_ADJACENCY_MATRIX[edge[0]][edge[1]]=eucleadian_distance\n",
    "        WEIGHTED_ADJACENCY_MATRIX[edge[1]][edge[0]]=eucleadian_distance\n",
    "        distance_feature.append(eucleadian_distance)\n",
    "\n",
    "        BINARY_ADJACENCY_MATRIX[edge[0]][edge[1]]=1\n",
    "        BINARY_ADJACENCY_MATRIX[edge[1]][edge[0]]=1\n",
    "\n",
    "        angle_betn_edge=Angle([x1, y1, z1],[x2, y2, z2])\n",
    "        ANGLE_BETWEEN_EDGE_FEATURE.append(angle_betn_edge)\n",
    "        # ANGLE_BETWEEN_EDGE_FEATURE[edge[1]][edge[0]]=angle_betn_edge\n",
    "\n",
    "        local_curvature=compute_curvature(x_axis, y_axis, z_axis, edge[0], edge[1])\n",
    "        LOCAL_CURVATURE_FEATURE.append(local_curvature)\n",
    "        # LOCAL_CURVATURE_FEATURE[edge[1]][edge[0]]=local_curvature\n",
    "        # print(local_curvature)\n",
    "        edge_orientation_feature=get_edge_orientation(((x1,y1,z1), (x2,y2,z2)))\n",
    "        EDGE_ORIENTATION_FEATURE.append(edge_orientation_feature)\n",
    "        # EDGE_ORIENTATION_FEATURE[edge[1]][edge[0]]=edge_orientation_feature\n",
    "        # Normalizing axis Values For Visualizing Meash on Face\n",
    "        shape = image.shape \n",
    "        relative_x = int(x1 * shape[1])\n",
    "        relative_y = int(y1 * shape[0])\n",
    "        relative_z = int(x2 * shape[1])\n",
    "        relative_c = int(y2 * shape[0])\n",
    "        # Drawing Nodes and Edges on Image For Visualization\n",
    "        cv2.circle(image, (relative_x, relative_y), radius=1, color=(0, 0, 255), thickness=3) \n",
    "        cv2.line(image,(relative_x,relative_y),(relative_z,relative_c),(0,255,0),1)\n",
    "\n",
    "    EdgeFeatures = normalization_function(np.column_stack(( distance_feature,  ANGLE_BETWEEN_EDGE_FEATURE, LOCAL_CURVATURE_FEATURE,EDGE_ORIENTATION_FEATURE)))\n",
    "\n",
    "    LocalAngles = fetch_local_angles(BINARY_ADJACENCY_MATRIX, x_axis, y_axis, z_axis)\n",
    "    Distance_node_feature = fetch_distance_node_feature(BINARY_ADJACENCY_MATRIX, x_axis, y_axis, z_axis)\n",
    "    XCoordinateFeature, YCoordinateFeature, ZCoordinateFeature = coordinateFeature(x_axis, y_axis, z_axis)\n",
    "    NodeFeatureMatrix = np.column_stack(( LocalAngles,  XCoordinateFeature[:-10], YCoordinateFeature[:-10], ZCoordinateFeature[:-10], Distance_node_feature, FEATURE_MATRIX))\n",
    "    \n",
    "    # JoinFeatureMatrix = normalization_function(JoinFeature1(NodeFeatureMatrix, EdgeFeatures, connection_tesselation))\n",
    "    JoinFeatureMatrix = JoinFeature2(NodeFeatureMatrix, EdgeFeatures, BINARY_ADJACENCY_MATRIX)\n",
    "\n",
    "    WEIGHTED_ADJACENCY_MATRIX=sparse.csr_matrix(WEIGHTED_ADJACENCY_MATRIX)\n",
    "    BINARY_ADJACENCY_MATRIX=sparse.csr_matrix(BINARY_ADJACENCY_MATRIX)\n",
    "    # print(\"NodeFeatureMatrix\",NodeFeatureMatrix.shape, \"EdgeFeatures\", EdgeFeatures.shape)\n",
    "    # print(\"JoinFeatureMatrix shape=\", JoinFeatureMatrix.shape)\n",
    "    # for i in range(10):\n",
    "    #     # print(\"NodeFeatureMatrix\",NodeFeatureMatrix[i], \"EdgeFeatures\", EdgeFeatures[i])\n",
    "    #     print(\"JoinFeatureMatrix\", JoinFeatureMatrix[i])\n",
    "    return(WEIGHTED_ADJACENCY_MATRIX, torch.from_numpy(JoinFeatureMatrix))\n"
   ]
  },
  {
   "attachments": {},
   "cell_type": "markdown",
   "id": "624e45dc",
   "metadata": {},
   "source": [
    "Checking mediapipe is running currectly or not"
   ]
  },
  {
   "cell_type": "code",
   "execution_count": 218,
   "id": "81b2d45c",
   "metadata": {},
   "outputs": [
    {
     "name": "stdout",
     "output_type": "stream",
     "text": [
      "JoinFeatureMatrix shape= (468, 9)\n",
      "JoinFeatureMatrix [-0.77592709 -0.02354432  0.50575377 -0.49848654 -0.65849809  0.00212274\n",
      "  0.10331858  0.24562892  0.89508562]\n",
      "JoinFeatureMatrix [-0.54242812  0.00692396  0.34259127 -0.93040907 -0.72743056  0.00096948\n",
      "  0.05205974  0.4745478   0.78421699]\n",
      "JoinFeatureMatrix [ 6.07223401e-01 -3.03253315e-03  3.77432038e-01 -5.85335154e-01\n",
      " -5.17783657e-01  6.42778955e-04  3.33304814e-02  1.52749234e-01\n",
      "  9.62477933e-01]\n",
      "JoinFeatureMatrix [-4.40377351e-01 -5.40066769e-02  4.69430164e-02 -8.90904648e-01\n",
      " -5.17556752e-01  5.11626468e-04  2.70404745e-02  1.72469579e-01\n",
      "  9.66510031e-01]\n",
      "JoinFeatureMatrix [-6.98995698e-01  1.28099556e-02  2.67581130e-01 -1.00000000e+00\n",
      " -4.79607905e-01  3.68109774e-04  2.30275076e-02  1.84661939e-01\n",
      "  9.22491552e-01]\n",
      "JoinFeatureMatrix [-7.41909454e-01  1.93308733e-02  1.47972264e-01 -9.96533111e-01\n",
      " -5.59601178e-01  9.67250960e-04  5.51740716e-02  1.21820495e-01\n",
      "  9.87068247e-01]\n",
      "JoinFeatureMatrix [-1.44474602e-01  3.19106221e-02 -1.70157322e-01 -8.13576531e-01\n",
      " -4.18397002e-01  3.78397377e-04  1.75239586e-02  2.22261286e-01\n",
      "  9.43650042e-01]\n",
      "JoinFeatureMatrix [-2.44024098e-01 -5.99530659e-01 -2.97240553e-01 -3.94344331e-01\n",
      " -9.06156623e-01  3.78031582e-04  2.09354307e-02  6.41997506e-02\n",
      "  9.95195500e-01]\n",
      "JoinFeatureMatrix [ 7.25451523e-02  4.37952261e-02 -3.95714046e-01 -8.24606420e-01\n",
      " -1.13534455e-01  5.23749150e-04  2.46129143e-02  2.79683159e-02\n",
      "  9.98367758e-01]\n",
      "JoinFeatureMatrix [ 9.55861892e-04  5.07021157e-02 -5.08901485e-01 -9.04238005e-01\n",
      "  4.93015498e-01  7.77150750e-04  3.29298131e-02  1.11682920e-01\n",
      "  9.81660156e-01]\n"
     ]
    }
   ],
   "source": [
    "# path=\"./datasets/orl_dataset/person10/test_image/98_10.jpg\"\n",
    "# adj1,features1=mediapipe(path)"
   ]
  },
  {
   "cell_type": "code",
   "execution_count": 219,
   "id": "5776e122",
   "metadata": {},
   "outputs": [],
   "source": [
    "# path=\"./datasets/orl_dataset/person9/test_image/88_9.jpg\"\n",
    "# adj1,features1=mediapipe(path)"
   ]
  },
  {
   "cell_type": "code",
   "execution_count": 220,
   "id": "dfe064a0",
   "metadata": {},
   "outputs": [],
   "source": [
    "# path=\"./datasets/orl_dataset/person9/test_image/88_9.jpg\"\n",
    "# adj1,features1=mediapipe(path)\n",
    "# for i in range(50):\n",
    "#     print(features1[i])"
   ]
  }
 ],
 "metadata": {
  "kernelspec": {
   "display_name": "Python 3",
   "language": "python",
   "name": "python3"
  },
  "language_info": {
   "codemirror_mode": {
    "name": "ipython",
    "version": 3
   },
   "file_extension": ".py",
   "mimetype": "text/x-python",
   "name": "python",
   "nbconvert_exporter": "python",
   "pygments_lexer": "ipython3",
   "version": "3.8.10"
  },
  "vscode": {
   "interpreter": {
    "hash": "f86ed6d2ccfca78b79da216d0cb38b107327236eab96f22d38fd0505e1d75fcf"
   }
  }
 },
 "nbformat": 4,
 "nbformat_minor": 5
}
