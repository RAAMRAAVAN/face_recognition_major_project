{
 "cells": [
  {
   "cell_type": "code",
   "execution_count": 9,
   "id": "a71a7b18",
   "metadata": {},
   "outputs": [],
   "source": [
    "import cv2\n",
    "import mediapipe as mp\n",
    "from matplotlib import pyplot as plt\n",
    "import numpy as np\n",
    "from scipy import sparse\n",
    "import math\n",
    "import torch\n",
    "import import_ipynb\n",
    "import import_ipynb\n",
    "from localAngle import calc_localAngle\n",
    "from coordinate import coordinateFeature\n",
    "from coordinate import normFunction\n",
    "from distanceNode import distance_node_feature"
   ]
  },
  {
   "cell_type": "code",
   "execution_count": 10,
   "id": "74e6fda5",
   "metadata": {},
   "outputs": [],
   "source": [
    "def Angle(BA,BC):\n",
    "    modBA= math.sqrt(BA[0]**2+BA[1]**2+BA[2]**2)\n",
    "    modBC= math.sqrt(BC[0]**2+BC[1]**2+BC[2]**2)\n",
    "    BABC= modBA * modBC\n",
    "    dotProduct=BA[0]*BC[0] + BA[1]*BC[1] + BA[2]*BC[2]\n",
    "    x = dotProduct / BABC\n",
    "    angle = math.acos(x)\n",
    "    return(math.degrees(angle))"
   ]
  },
  {
   "cell_type": "code",
   "execution_count": 11,
   "id": "0abfe328",
   "metadata": {},
   "outputs": [],
   "source": [
    "# Calculating Local Angle For Node Feature\n",
    "def fetch_local_angles(BINARY_ADJACENCY_MATRIX, x_axis, y_axis, z_axis):\n",
    "    row_indices, col_indices = BINARY_ADJACENCY_MATRIX.nonzero()\n",
    "    Local_Angle_features=[]\n",
    "    for landmark in range(468):\n",
    "        List = []\n",
    "        for i in range(len(row_indices)):\n",
    "            if(row_indices[i] == landmark):\n",
    "                List.append([x_axis[col_indices[i]], y_axis[col_indices[i]], z_axis[col_indices[i]]])\n",
    "        A = [x_axis[landmark], y_axis[landmark], z_axis[landmark]]\n",
    "        # print(\"A=\",A, \"S=\",List)\n",
    "        Local_Angle_features.append(calc_localAngle(A, np.array(List)))\n",
    "    # print(\"Local_Angle_features=\",Local_Angle_features)\n",
    "    return normFunction(Local_Angle_features)"
   ]
  },
  {
   "cell_type": "code",
   "execution_count": 12,
   "id": "cf60ada0",
   "metadata": {},
   "outputs": [],
   "source": [
    "# Calculating distance For Node Feature\n",
    "def fetch_distance_node_feature(BINARY_ADJACENCY_MATRIX, x_axis, y_axis, z_axis):\n",
    "    row_indices, col_indices = BINARY_ADJACENCY_MATRIX.nonzero()\n",
    "    # print( row_indices, col_indices)\n",
    "    Distance_node_features=[]\n",
    "    for landmark in range(468):\n",
    "        List = []\n",
    "        for i in range(len(row_indices)):\n",
    "            if(row_indices[i] == landmark):\n",
    "                List.append([x_axis[col_indices[i]], y_axis[col_indices[i]], z_axis[col_indices[i]]])\n",
    "        A = [x_axis[landmark], y_axis[landmark], z_axis[landmark]]\n",
    "        Distance_node_features.append(distance_node_feature(A, np.array(List)))\n",
    "    # print(\"Local_Angle_features=\",Local_Angle_features)\n",
    "    return normFunction(Distance_node_features)"
   ]
  },
  {
   "cell_type": "code",
   "execution_count": 13,
   "id": "42397729",
   "metadata": {},
   "outputs": [],
   "source": [
    "def mediapipe(path): \n",
    "    image=cv2.imread(path)\n",
    "    image=cv2.resize(image,(600,600))\n",
    "    annoted_image=image.astype(np.uint8)\n",
    "\n",
    "    mp_face_mesh=mp.solutions.face_mesh\n",
    "    connection_tesselation=mp_face_mesh.FACEMESH_TESSELATION\n",
    "    # print(\"edges_mediapipe=\",len(connection_tesselation),len(connection_tesselation)/2)\n",
    "    # print(connection_tesselation)\n",
    "    with mp_face_mesh.FaceMesh(static_image_mode=False,max_num_faces=2,refine_landmarks=True,min_detection_confidence=0.5) as face_mesh:\n",
    "        results=face_mesh.process(cv2.cvtColor(image,cv2.COLOR_BGR2RGB))\n",
    "\n",
    "    x_axis=np.empty(len(results.multi_face_landmarks[0].landmark))\n",
    "    y_axis=np.empty(len(results.multi_face_landmarks[0].landmark))\n",
    "    z_axis=np.empty(len(results.multi_face_landmarks[0].landmark))\n",
    "    i=0\n",
    "\n",
    "    for nodes in results.multi_face_landmarks[0].landmark:\n",
    "        x_axis[i]=(results.multi_face_landmarks[0].landmark[i].x)\n",
    "        y_axis[i]=(results.multi_face_landmarks[0].landmark[i].y)\n",
    "        z_axis[i]=(results.multi_face_landmarks[0].landmark[i].z)\n",
    "        i=i+1\n",
    "    # print(len(results.multi_face_landmarks[0].landmark))\n",
    "    # print(\"xyz=\",x_axis)\n",
    "\n",
    "    FEATURE_MATRIX=np.zeros((468,468))\n",
    "    for i in range(468):\n",
    "        FEATURE_MATRIX[i][i]=1\n",
    "\n",
    "    WEIGHTED_ADJACENCY_MATRIX=np.zeros((468,468)) #creating a numpy array of shape 468X468 initialized with zero\n",
    "    BINARY_ADJACENCY_MATRIX=np.zeros((468,468))\n",
    "    ANGLE_BETWEEN_EDGE_FEATURE=np.zeros((468,468))\n",
    "\n",
    "    for edge in connection_tesselation:\n",
    "        # Determining X & Y axis of Two Connected Points\n",
    "        x1=x_axis[edge[0]]\n",
    "        y1=y_axis[edge[0]]\n",
    "        z1=z_axis[edge[0]]\n",
    "        x2=x_axis[edge[1]]\n",
    "        y2=y_axis[edge[1]]\n",
    "        z2=z_axis[edge[1]]\n",
    "        # Calculating Eucleadin Distance for Weighted Graph\n",
    "        eucleadian_distance=(((x2-x1)**2 + (y2-y1)**2 + (z2-z1)**2) ** 0.5)\n",
    "        # Creating Weighted Graph\n",
    "        WEIGHTED_ADJACENCY_MATRIX[edge[0]][edge[1]]=eucleadian_distance\n",
    "        WEIGHTED_ADJACENCY_MATRIX[edge[1]][edge[0]]=eucleadian_distance\n",
    "\n",
    "        BINARY_ADJACENCY_MATRIX[edge[0]][edge[1]]=1\n",
    "        BINARY_ADJACENCY_MATRIX[edge[1]][edge[0]]=1\n",
    "\n",
    "        angle_betn_edge=Angle([x1, y1, z1],[x2, y2, z2])\n",
    "        ANGLE_BETWEEN_EDGE_FEATURE[edge[0]][edge[1]]=angle_betn_edge\n",
    "        ANGLE_BETWEEN_EDGE_FEATURE[edge[1]][edge[0]]=angle_betn_edge\n",
    "\n",
    "        # Normalizing axis Values For Visualizing Meash on Face\n",
    "        shape = image.shape \n",
    "        relative_x = int(x1 * shape[1])\n",
    "        relative_y = int(y1 * shape[0])\n",
    "        relative_z = int(x2 * shape[1])\n",
    "        relative_c = int(y2 * shape[0])\n",
    "        # Drawing Nodes and Edges on Image For Visualization\n",
    "        cv2.circle(image, (relative_x, relative_y), radius=1, color=(0, 0, 255), thickness=3) \n",
    "        cv2.line(image,(relative_x,relative_y),(relative_z,relative_c),(0,255,0),1)\n",
    "\n",
    "    # plt.imshow(image)\n",
    "    WEIGHTED_ADJACENCY_MATRIX=sparse.csr_matrix(WEIGHTED_ADJACENCY_MATRIX)\n",
    "    BINARY_ADJACENCY_MATRIX=sparse.csr_matrix(BINARY_ADJACENCY_MATRIX)\n",
    "    # print(BINARY_ADJACENCY_MATRIX)\n",
    "    LocalAngles = fetch_local_angles(BINARY_ADJACENCY_MATRIX, x_axis, y_axis, z_axis)\n",
    "    Distance_node_feature = fetch_distance_node_feature(BINARY_ADJACENCY_MATRIX, x_axis, y_axis, z_axis)\n",
    "    # print(Distance_node_feature)\n",
    "    XCoordinateFeature, YCoordinateFeature, ZCoordinateFeature = coordinateFeature(x_axis, y_axis, z_axis)\n",
    "    # FEATURE_MATRIX=torch.from_numpy(FEATURE_MATRIX)\n",
    "    DOTPRODUCT=WEIGHTED_ADJACENCY_MATRIX.dot(BINARY_ADJACENCY_MATRIX)\n",
    "    # newFeatureMatrix = LocalAngles\n",
    "    newFeatureMatrix = torch.from_numpy(np.column_stack((LocalAngles,  XCoordinateFeature[:-10], YCoordinateFeature[:-10], ZCoordinateFeature[:-10], Distance_node_feature, FEATURE_MATRIX)))\n",
    "    # print( LocalAngles[0], XCoordinateFeature[:-10][0], YCoordinateFeature[:-10][0], ZCoordinateFeature[:-10][0])\n",
    "    return(WEIGHTED_ADJACENCY_MATRIX,newFeatureMatrix)\n",
    "    # return(DOTPRODUCT,newFeatureMatrix/np.linalg.norm(newFeatureMatrix))\n"
   ]
  },
  {
   "attachments": {},
   "cell_type": "markdown",
   "id": "624e45dc",
   "metadata": {},
   "source": [
    "Checking mediapipe is running currectly or not"
   ]
  },
  {
   "cell_type": "code",
   "execution_count": 14,
   "id": "81b2d45c",
   "metadata": {},
   "outputs": [
    {
     "name": "stdout",
     "output_type": "stream",
     "text": [
      "[-0.658498085574667, -0.7274305630648765, -0.5177836568012124, -0.5175567522323883, -0.4796079050587039, -0.5596011780547775, -0.4183970016868238, -0.9061566227536618, -0.11353445513434979, 0.4930154980354673, 0.7165463597714476, -0.6250295490065725, -0.6148045672561073, -0.5747524022481217, -0.632269264331984, -0.6569710702252329, -0.7171244895040734, -0.34508432054273497, -0.3253765716807808, -0.5779809523339692, -0.5628470891130879, 0.7418641891086724, -0.6770901786334599, -0.6135481425852023, -0.5900635460740296, -0.7194967201155127, -0.8320015834695464, -0.5894895396523101, -0.5169940923819601, -0.67281368562317, -0.7018756535811274, -0.547775785319276, -0.21133955181279007, -0.8872465329855903, 0.8156131216097733, -0.2800683559717264, -0.17394933761349818, -0.5706066135900107, -0.625177901530299, -0.48273598769102555, -0.5349306928365078, -0.6843616973132116, -0.7551511584878057, -0.44379727536036206, -0.6168259513320768, -0.5022226666038647, -0.3103282343292978, -0.5414241757434408, -0.7234159712326553, -0.6048061037900094, 0.3136902078417656, -0.4089427865443145, -0.14865748750583463, -0.37097574027294966, 0.6592395993279163, 0.109990694102861, -0.6025667926700724, -0.4414119150299385, 0.5705988595965918, -0.9405989294804903, -0.718656499657528, -0.6367538539878748, -0.8787239204686407, 0.02213706896334, -0.7275096583516263, 0.019638377612246405, 0.01396434808196867, 0.7442561415555666, 0.41179747685674295, 0.5012692856695065, 0.1087383454045796, 0.6078945980535475, -0.6047785307913658, -0.7377790417500949, -0.7188750966655415, -0.8808782476433326, -0.8485252831642959, -0.866872436497552, -0.8698176317307755, -0.6657466897714885, -0.7782726671553857, -0.6511601020814833, -0.6804453274532318, -0.25321576643954746, -0.5043699904567536, -0.6041678461939558, -0.6998039376514311, -0.7403684807054729, -0.7732905864604196, -0.8360726425507499, -0.7694773104120656, -0.48621149679789033, -0.283657471180088, 0.7739240641471732, -0.7520652540616264, -0.8703015109396649, -0.8480882032919219, -0.39891573162491734, -0.38402932867630557, -0.6229286683947193, -0.34254459293216244, -0.035999465123043306, -0.7610294671566137, 0.5043689842251688, 0.4319621260299855, -0.0032282063341204648, -0.4395646037736459, 0.38459918889669886, 0.7130125772034592, 0.8293576238091165, -0.7357483990769529, -0.12484111104403184, -0.9067937937033314, -0.4607257058584864, -0.5455787881537622, -0.6254268634976254, 0.41613984471965737, -0.05939211380733389, -0.11514696038213978, -0.40620031687098435, -0.4258189824661014, -0.6000120462739222, -0.35321204589927213, 0.7087410114251429, -0.21353657250676394, -0.713455476686464, -0.4647820748694048, 0.9408124895111594, -0.6033635246173407, -0.35733748672551846, -0.8059126754841638, -0.43631755972723885, 0.6885953736144121, -0.9933561001573104, -0.3777004489364232, 0.23682799456278136, 0.22597185478072834, 0.8971531630386747, 0.2913253686887871, 0.768275138035514, -0.18630073549972626, -0.5664535086221345, -0.3783068497787885, 0.234914855309442, -0.7280805333777931, -0.7311441325005033, -0.7642960449601593, 0.41941698511428704, -0.05222896642479957, -0.2166419637413155, 0.09589880732733724, 0.7927116711808617, -0.15375292075932157, -0.7955214091822449, -0.8288958839826953, -0.9952192354022769, 0.2552677525194953, -0.6336830735964468, -0.6883520885437552, -0.6447292762883656, -0.6585610316604249, -0.7864565542973065, 0.9126075759556915, -0.8858224812645499, -0.4865517019557628, -0.13089680710603524, -0.6276029272374256, -0.40328716986515345, -0.326227242737012, 0.04522049738787515, -0.12433874505828346, -0.13940412836229632, 0.38833241520806583, -0.7627873760186223, -0.46383560034460536, -0.045427998661276336, -0.18427598691003855, 0.7700594922119088, -0.7410570976048609, -0.7547092147170074, -0.6940801948977047, -0.4574286230526988, -0.32164290167235177, -0.7952350828814162, -0.74363063154046, -0.5287444063228451, -0.29698348021717214, 0.46480969460955346, -0.442609949369538, -0.42419836112319076, -0.7130186987070013, -0.7912991875643897, 0.21115362955187322, -0.21071043575733428, -0.3092119071894561, -0.49729898941772177, -0.3977154827607955, -0.5013567629001057, -0.44521428964460164, -0.17468908799188, -0.28874153027046867, -0.27497406067437435, -0.31913464137640224, -0.269008073349422, -0.3248405523437832, 0.11706984356053196, -0.161495519025598, 0.11306526242736137, -0.2717570350582129, -0.44944858302204393, -0.11597987825261846, -0.144101505976995, -0.14424677949771403, 0.221379693374828, 0.3231450419913775, 0.49825722883427925, -0.1491171840723854, -0.46431662803131046, -0.6435425264112562, -0.7490192718017616, -0.5245204740256174, -0.2089911172936314, -0.3129066725799956, -0.44233995760287426, -0.6197948273712603, -0.5905121326818341, -0.46896314981171106, 0.848675527064368, -0.48708198014347903, -0.3295062184958648, -0.40088824522448596, -0.6721332415708609, -0.7198614547156983, -0.7720773757210833, 0.8337202444498963, -0.8914692733665225, -0.3808472393008987, -0.6922474064654123, -0.7338671975946086, -0.8504444366109929, -0.7472206751233297, -0.7099302038992903, -0.6649843983197095, -0.8412941227225184, -0.6380041063065286, -0.5099386166182518, -0.882038309518072, -0.6738402270873627, -0.5270176461133765, -0.9042994427075028, -0.5557838486913105, 0.7820158146757452, -0.6857422855582994, -0.6138390528888095, -0.5885134364015466, -0.722933749710379, -0.8422651028261656, -0.5889353147190275, -0.5265774355112565, -0.6696749722562931, -0.6876904931321004, -0.5567632048906751, -0.19387846352422478, -0.8885873248428477, 0.848634952751169, -0.28965553282027845, -0.19125754748563428, -0.587922341905693, -0.6347250437689724, -0.46551621297824686, -0.5047643651538909, -0.6981943354616089, -0.7739649593959061, -0.4684060112556293, -0.6134350472423507, -0.49937830006164297, -0.32397934037815324, -0.5455047056836004, -0.7274372311926597, -0.6075854355850874, 0.30038461168467445, -0.41118364237605465, -0.15580763697549682, -0.3846283548403431, 0.6641280998184793, 0.06791443118399143, -0.6151405058083897, -0.4299713291603574, 0.6273555612447361, -0.9008612763797512, -0.7244533987593371, -0.6664899273113765, -0.8869330721021276, 0.027418667495345828, -0.7273520389428179, 0.0029925331590079374, 0.016172822488955463, 0.7065110868273834, 0.43057152982727676, 0.49134016398894587, 0.11262422951311035, 0.6440706400999745, -0.6160144926147963, -0.7490895074724728, -0.7348018015307867, -0.9229300610620177, -0.8531187997369081, -0.8794012416735374, -0.883732881389377, -0.6838746551770156, -0.8016200287670113, -0.6707871331889959, -0.6920540137571902, -0.26738899869392163, -0.5184690796955143, -0.6168127628767843, -0.7109899066062919, -0.7497021117907195, -0.7927400166484799, -0.8523032910230155, -0.7881100952730757, -0.5194016636387885, -0.24238672143061268, 0.8118724091868863, -0.8813274467149839, -0.8612731931853728, -0.4158975933419504, -0.3915774604737583, -0.6287003993097358, -0.35648005775930225, -0.05449308971292188, -0.7578762007991036, 0.47996954542224235, 0.4152532579478283, -0.011931298004427271, -0.4497652523027954, 0.3701364948012924, 0.7076987153769925, 0.8146526647326358, -0.7350003907721621, -0.15827006598794224, -0.905636756113142, -0.4720916379189354, -0.5445113604445739, -0.6295598581241642, 0.3851952466087658, -0.07380959810463417, -0.11950210977120435, -0.41686305282101066, -0.4408175301605045, -0.6055203178505502, -0.34746202380513114, 0.6958406725056043, -0.22202128119557463, -0.7082077504762246, -0.473757137709477, 1.0, -0.5967065150816246, -0.3598124091561865, -0.8106494826429282, -0.44260884972480985, 0.728311429296219, -0.9974534531414996, -0.3800447212953513, 0.27567868483833413, 0.28171893763185074, 0.9243013235680275, 0.3312653809060222, 0.8072675700096237, -0.1569115944936501, -0.5689286501865496, -0.39245411981383826, 0.2075648894147697, -0.7276688105119629, -0.732691288850928, -0.7870202084597582, 0.4231648058149611, -0.02257866467002645, -0.17542800831563976, 0.15084592071747527, -0.8049538150495623, -0.8465854363547329, -1.0, 0.2523826112841221, -0.6528336199356151, -0.699803115787972, -0.6481542415833967, -0.6515519015094603, -0.8366119440938214, 0.9711927430105052, -0.8876294133914049, -0.12474246157143265, -0.6177629005017113, -0.42357430534827767, 0.07439692991409874, -0.08443646666744475, -0.1205212941716326, 0.44689906458387507, -0.7817567491072817, -0.4670225103793624, -0.14572335881265996, 0.7996186137165928, -0.7586193371190907, -0.7706599667567845, -0.7112481877376622, -0.49040300948777493, -0.3463745212223761, -0.809993562002673, -0.7558242697638362, -0.5116659427836792, -0.26397747726156084, 0.47131077982860936, -0.43098058430375596, -0.43308917910613787, -0.722950074636834, -0.8072911707239401, 0.22948338801605783, -0.2198647428015268, -0.30390516669298395, -0.40671012993574773, -0.4528327060586249, -0.27275327264908655, -0.30318462981904915, -0.2804010416899574, -0.3159678838794867, 0.10710359750642806, -0.1635212409778316, 0.13030735844849817, -0.2657631043946973, -0.4575526717334265, -0.0976247885212066, -0.12549507290314388, -0.12944141965257694, 0.2312777834222175, 0.34569077739798004, 0.5349591860790703, -0.13762167468720887, -0.47136768756265, -0.6467826677145814, -0.7552098742883928, -0.5213722083372487, -0.22682598368721552, -0.3216484908438505, -0.4483859238163994, -0.6262294054442432, -0.6013954779236136, -0.4782541491897858, 0.8727665386798455, -0.4882876396369559, -0.3359814045135595, -0.40924353664414403, -0.6797426000038977, -0.7262794378348991, -0.769491465695175, 0.8826965028958347, -0.8964679624571459, -0.38781121031561017, -0.6837994014731237, -0.7706408755026005, -0.7680307318436155, -0.7560283239626014, -0.7064063494761185, -0.6703120858547351, -0.8438808337084136, -0.6336264066720765, -0.49396138842152504, -0.8132630787501524, -0.6846259643845922]\n"
     ]
    }
   ],
   "source": [
    "# path=\"./datasets/orl_dataset/person10/test_image/98_10.jpg\"\n",
    "# adj1,features1=mediapipe(path)\n",
    "# for i in range(50):\n",
    "#     print(features1[i])\n",
    "\n"
   ]
  },
  {
   "cell_type": "code",
   "execution_count": 15,
   "id": "5776e122",
   "metadata": {},
   "outputs": [],
   "source": [
    "# adj1=adj1.toarray()\n",
    "# adj2=adj2.toarray()"
   ]
  },
  {
   "cell_type": "code",
   "execution_count": 16,
   "id": "dfe064a0",
   "metadata": {},
   "outputs": [],
   "source": [
    "# path=\"./datasets/orl_dataset/person9/test_image/88_9.jpg\"\n",
    "# adj1,features1=mediapipe(path)\n",
    "# for i in range(50):\n",
    "#     print(features1[i])\n"
   ]
  }
 ],
 "metadata": {
  "kernelspec": {
   "display_name": "Python 3",
   "language": "python",
   "name": "python3"
  },
  "language_info": {
   "codemirror_mode": {
    "name": "ipython",
    "version": 3
   },
   "file_extension": ".py",
   "mimetype": "text/x-python",
   "name": "python",
   "nbconvert_exporter": "python",
   "pygments_lexer": "ipython3",
   "version": "3.8.10"
  },
  "vscode": {
   "interpreter": {
    "hash": "f86ed6d2ccfca78b79da216d0cb38b107327236eab96f22d38fd0505e1d75fcf"
   }
  }
 },
 "nbformat": 4,
 "nbformat_minor": 5
}
