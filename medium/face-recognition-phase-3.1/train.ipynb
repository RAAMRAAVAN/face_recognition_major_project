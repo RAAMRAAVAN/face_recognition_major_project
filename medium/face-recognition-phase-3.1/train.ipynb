{
 "cells": [
  {
   "cell_type": "code",
   "execution_count": 1,
   "id": "ac5b7ad2",
   "metadata": {},
   "outputs": [
    {
     "name": "stdout",
     "output_type": "stream",
     "text": [
      "importing Jupyter notebook from gaemain.ipynb\n",
      "importing Jupyter notebook from ram_mediapipe.ipynb\n",
      "epoch= 256\n"
     ]
    }
   ],
   "source": [
    "from __future__ import division\n",
    "from __future__ import print_function\n",
    "\n",
    "import argparse\n",
    "import time\n",
    "\n",
    "import numpy as np\n",
    "import scipy.sparse as sp\n",
    "import torch\n",
    "import torchvision\n",
    "from torch import optim\n",
    "import pandas as pd\n",
    "\n",
    "\n",
    "from gae.model import GCNModelVAE\n",
    "\n",
    "from gae.optimizer import loss_function\n",
    "from gae.utils import load_data, mask_test_edges, preprocess_graph, get_roc_score\n",
    "\n",
    "import import_ipynb\n",
    "from gaemain import gae_for\n",
    "import os\n",
    "import glob\n",
    "# ram changes 1\n"
   ]
  },
  {
   "cell_type": "code",
   "execution_count": 2,
   "id": "19832fcb",
   "metadata": {},
   "outputs": [],
   "source": [
    "def train_dataset(dataset):\n",
    "    personsPath=\"./datasets/\"+dataset+\"/\"\n",
    "    persons = os.listdir(personsPath)\n",
    "    for person in persons:\n",
    "        path=\"./datasets/\"+dataset+\"/\"+person+\"/train_images/\"\n",
    "        files=os.listdir(path)\n",
    "        count=0\n",
    "        cwd = os.getcwd()\n",
    "\n",
    "        try:\n",
    "            os.mkdir(cwd+\"./datasets/\"+dataset+\"/\"+person+\"/\"+person+\"_training_latent_representation\")\n",
    "        except OSError as error:\n",
    "            # toDelete = cwd+\"/orl_dataset/person\"+str(person)+\"/person\"+str(person)+\"_testing_latent_representation\"\n",
    "            filestoDelete = glob.glob(cwd+\"./datasets/\"+dataset+\"/\"+person+\"/\"+person+\"_training_latent_representation/*\")\n",
    "            for f in filestoDelete:\n",
    "                os.remove(f)\n",
    "        \n",
    "        for image in files:\n",
    "            image_path=path+image\n",
    "            imageName=image.split(\".\")\n",
    "            # print(imageName[0])\n",
    "            count=count+1\n",
    "            Z=gae_for(image_path)\n",
    "            Z=Z.detach().numpy() #convert to Numpy array\n",
    "            # print(\"numpyZ=\",Z)\n",
    "            Z = pd.DataFrame(Z) #convert to a dataframe\n",
    "            # print(\"dataframeZ=\",Z)\n",
    "            csv_path=\"./datasets/\"+dataset+\"/\"+person+\"/\"+person+\"_training_latent_representation/\"+imageName[0]+\"_signature.csv\"\n",
    "            # print(csv_path)\n",
    "            Z.to_csv(csv_path,index=False) #save to file\n",
    "        print(\"Training of person \",person,\" is completed\")\n",
    "    return \"training of \"+dataset+\" data set is completed\" \n",
    "        \n"
   ]
  }
 ],
 "metadata": {
  "kernelspec": {
   "display_name": "Python 3",
   "language": "python",
   "name": "python3"
  },
  "language_info": {
   "codemirror_mode": {
    "name": "ipython",
    "version": 3
   },
   "file_extension": ".py",
   "mimetype": "text/x-python",
   "name": "python",
   "nbconvert_exporter": "python",
   "pygments_lexer": "ipython3",
   "version": "3.8.10 (tags/v3.8.10:3d8993a, May  3 2021, 11:48:03) [MSC v.1928 64 bit (AMD64)]"
  },
  "vscode": {
   "interpreter": {
    "hash": "f86ed6d2ccfca78b79da216d0cb38b107327236eab96f22d38fd0505e1d75fcf"
   }
  }
 },
 "nbformat": 4,
 "nbformat_minor": 5
}
