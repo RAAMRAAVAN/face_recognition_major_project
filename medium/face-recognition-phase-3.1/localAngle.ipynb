{
 "cells": [
  {
   "cell_type": "code",
   "execution_count": 1,
   "metadata": {},
   "outputs": [],
   "source": [
    "import math\n",
    "import numpy as np\n",
    "\n",
    "Sn=np.array([[0,4,0],[4,0,0]])\n",
    "# a, c\n",
    "An=[0,0,0] #B\n"
   ]
  },
  {
   "cell_type": "code",
   "execution_count": 2,
   "metadata": {},
   "outputs": [],
   "source": [
    "def Angle(A,B,C):\n",
    "    BA = np.array([A[0]-B[0], A[1]-B[1], A[2]-B[2]])\n",
    "    modBA= math.sqrt(BA[0]**2+BA[1]**2+BA[2]**2)\n",
    "    BC = np.array([C[0]-B[0], C[1]-B[1], C[2]-B[2]])\n",
    "    modBC= math.sqrt(BC[0]**2+BC[1]**2+BC[2]**2)\n",
    "    BABC= modBA * modBC\n",
    "    dotProduct=BA[0]*BC[0] + BA[1]*BC[1] + BA[2]*BC[2]\n",
    "    x = dotProduct / BABC\n",
    "    angle = math.acos(x)\n",
    "    return(math.degrees(angle))"
   ]
  },
  {
   "cell_type": "code",
   "execution_count": 3,
   "metadata": {},
   "outputs": [],
   "source": [
    "def calc_localAngle(A, S):\n",
    "    # print(A, S)\n",
    "    localAngle = 0\n",
    "    for i in range(S.shape[0]-1):\n",
    "        angle = Angle(S[i], A, S[i+1])\n",
    "        sumOfAllSides = angle+ Angle(S[i], S[i+1], A) + Angle(S[i+1], S[i], A)\n",
    "        # print(sumOfAllSides)\n",
    "        if(sumOfAllSides == 180):\n",
    "            localAngle = localAngle +angle\n",
    "    # print(\"localAngle\", localAngle)\n",
    "    return(math.radians(localAngle))"
   ]
  },
  {
   "cell_type": "code",
   "execution_count": 4,
   "metadata": {},
   "outputs": [
    {
     "name": "stdout",
     "output_type": "stream",
     "text": [
      "local angle=  90.0\n"
     ]
    }
   ],
   "source": [
    "# print(\"local angle= \",calc_localAngle(An, Sn))"
   ]
  }
 ],
 "metadata": {
  "kernelspec": {
   "display_name": "Python 3",
   "language": "python",
   "name": "python3"
  },
  "language_info": {
   "codemirror_mode": {
    "name": "ipython",
    "version": 3
   },
   "file_extension": ".py",
   "mimetype": "text/x-python",
   "name": "python",
   "nbconvert_exporter": "python",
   "pygments_lexer": "ipython3",
   "version": "3.8.10"
  },
  "orig_nbformat": 4
 },
 "nbformat": 4,
 "nbformat_minor": 2
}
